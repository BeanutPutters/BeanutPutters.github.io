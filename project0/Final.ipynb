{
 "cells": [
  {
   "cell_type": "markdown",
   "id": "4d6de502-4269-41c0-8a2f-d096822366f0",
   "metadata": {},
   "source": [
    "Note: thingy.\n",
    "\n",
    "Current Updates:\n",
    "adding libraries I think we'll need\n"
   ]
  },
  {
   "cell_type": "code",
   "execution_count": null,
   "id": "630d959f-854f-47b7-9a09-73fd683438d6",
   "metadata": {},
   "outputs": [],
   "source": []
  },
  {
   "cell_type": "code",
   "execution_count": 3,
   "id": "99203d92-5706-435e-838a-489904e7e4ee",
   "metadata": {},
   "outputs": [],
   "source": [
    "# Libraries for data wrangling and transformation\n",
    "import requests \n",
    "from bs4 import BeautifulSoup\n",
    "import pandas as pd\n",
    "import numpy as np\n",
    "# Libraries for data analysis\n",
    "import matplotlib.pyplot as plt\n",
    "\n",
    "\n",
    "# Miscellaneous\n",
    "from datetime import datetime\n",
    "import matplotlib.colors as mcolors"
   ]
  },
  {
   "cell_type": "code",
   "execution_count": null,
   "id": "9d4962a9-6bcf-4c19-b65a-e458c6c96be6",
   "metadata": {},
   "outputs": [],
   "source": []
  }
 ],
 "metadata": {
  "kernelspec": {
   "display_name": "Python 3 (ipykernel)",
   "language": "python",
   "name": "python3"
  },
  "language_info": {
   "codemirror_mode": {
    "name": "ipython",
    "version": 3
   },
   "file_extension": ".py",
   "mimetype": "text/x-python",
   "name": "python",
   "nbconvert_exporter": "python",
   "pygments_lexer": "ipython3",
   "version": "3.9.7"
  }
 },
 "nbformat": 4,
 "nbformat_minor": 5
}
