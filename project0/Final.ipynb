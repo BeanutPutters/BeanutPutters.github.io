{
 "cells": [
  {
   "cell_type": "markdown",
   "id": "4d6de502-4269-41c0-8a2f-d096822366f0",
   "metadata": {},
   "source": [
    "Note: thingy.\n",
    "\n",
    "Current Updates:\n",
    "adding libraries I think we'll need\n"
   ]
  },
  {
   "cell_type": "code",
   "execution_count": null,
   "id": "630d959f-854f-47b7-9a09-73fd683438d6",
   "metadata": {},
   "outputs": [],
   "source": []
  },
  {
   "cell_type": "code",
   "execution_count": 1,
   "id": "99203d92-5706-435e-838a-489904e7e4ee",
   "metadata": {},
   "outputs": [],
   "source": [
    "# Libraries for data wrangling and transformation\n",
    "import requests \n",
    "from bs4 import BeautifulSoup\n",
    "import pandas as pd\n",
    "import numpy as np\n",
    "# Libraries for data analysis\n",
    "import matplotlib.pyplot as plt\n",
    "\n",
    "\n",
    "# Miscellaneous\n",
    "from datetime import datetime\n",
    "import matplotlib.colors as mcolors"
   ]
  },
  {
   "cell_type": "code",
   "execution_count": 2,
   "id": "61fb40ba",
   "metadata": {},
   "outputs": [],
   "source": [
    "data = pd.read_csv(\"twitchdata-update.csv\")"
   ]
  },
  {
   "cell_type": "code",
   "execution_count": 3,
   "id": "6e75a926",
   "metadata": {
    "scrolled": true
   },
   "outputs": [
    {
     "data": {
      "text/html": [
       "<div>\n",
       "<style scoped>\n",
       "    .dataframe tbody tr th:only-of-type {\n",
       "        vertical-align: middle;\n",
       "    }\n",
       "\n",
       "    .dataframe tbody tr th {\n",
       "        vertical-align: top;\n",
       "    }\n",
       "\n",
       "    .dataframe thead th {\n",
       "        text-align: right;\n",
       "    }\n",
       "</style>\n",
       "<table border=\"1\" class=\"dataframe\">\n",
       "  <thead>\n",
       "    <tr style=\"text-align: right;\">\n",
       "      <th></th>\n",
       "      <th>Channel</th>\n",
       "      <th>Watch time(Minutes)</th>\n",
       "      <th>Stream time(minutes)</th>\n",
       "      <th>Peak viewers</th>\n",
       "      <th>Average viewers</th>\n",
       "      <th>Followers</th>\n",
       "      <th>Followers gained</th>\n",
       "      <th>Views gained</th>\n",
       "      <th>Partnered</th>\n",
       "      <th>Mature</th>\n",
       "      <th>Language</th>\n",
       "    </tr>\n",
       "  </thead>\n",
       "  <tbody>\n",
       "    <tr>\n",
       "      <th>0</th>\n",
       "      <td>xQcOW</td>\n",
       "      <td>6196161750</td>\n",
       "      <td>215250</td>\n",
       "      <td>222720</td>\n",
       "      <td>27716</td>\n",
       "      <td>3246298</td>\n",
       "      <td>1734810</td>\n",
       "      <td>93036735</td>\n",
       "      <td>True</td>\n",
       "      <td>False</td>\n",
       "      <td>English</td>\n",
       "    </tr>\n",
       "    <tr>\n",
       "      <th>1</th>\n",
       "      <td>summit1g</td>\n",
       "      <td>6091677300</td>\n",
       "      <td>211845</td>\n",
       "      <td>310998</td>\n",
       "      <td>25610</td>\n",
       "      <td>5310163</td>\n",
       "      <td>1370184</td>\n",
       "      <td>89705964</td>\n",
       "      <td>True</td>\n",
       "      <td>False</td>\n",
       "      <td>English</td>\n",
       "    </tr>\n",
       "    <tr>\n",
       "      <th>2</th>\n",
       "      <td>Gaules</td>\n",
       "      <td>5644590915</td>\n",
       "      <td>515280</td>\n",
       "      <td>387315</td>\n",
       "      <td>10976</td>\n",
       "      <td>1767635</td>\n",
       "      <td>1023779</td>\n",
       "      <td>102611607</td>\n",
       "      <td>True</td>\n",
       "      <td>True</td>\n",
       "      <td>Portuguese</td>\n",
       "    </tr>\n",
       "    <tr>\n",
       "      <th>3</th>\n",
       "      <td>ESL_CSGO</td>\n",
       "      <td>3970318140</td>\n",
       "      <td>517740</td>\n",
       "      <td>300575</td>\n",
       "      <td>7714</td>\n",
       "      <td>3944850</td>\n",
       "      <td>703986</td>\n",
       "      <td>106546942</td>\n",
       "      <td>True</td>\n",
       "      <td>False</td>\n",
       "      <td>English</td>\n",
       "    </tr>\n",
       "    <tr>\n",
       "      <th>4</th>\n",
       "      <td>Tfue</td>\n",
       "      <td>3671000070</td>\n",
       "      <td>123660</td>\n",
       "      <td>285644</td>\n",
       "      <td>29602</td>\n",
       "      <td>8938903</td>\n",
       "      <td>2068424</td>\n",
       "      <td>78998587</td>\n",
       "      <td>True</td>\n",
       "      <td>False</td>\n",
       "      <td>English</td>\n",
       "    </tr>\n",
       "    <tr>\n",
       "      <th>...</th>\n",
       "      <td>...</td>\n",
       "      <td>...</td>\n",
       "      <td>...</td>\n",
       "      <td>...</td>\n",
       "      <td>...</td>\n",
       "      <td>...</td>\n",
       "      <td>...</td>\n",
       "      <td>...</td>\n",
       "      <td>...</td>\n",
       "      <td>...</td>\n",
       "      <td>...</td>\n",
       "    </tr>\n",
       "    <tr>\n",
       "      <th>995</th>\n",
       "      <td>LITkillah</td>\n",
       "      <td>122524635</td>\n",
       "      <td>13560</td>\n",
       "      <td>21359</td>\n",
       "      <td>9104</td>\n",
       "      <td>601927</td>\n",
       "      <td>562691</td>\n",
       "      <td>2162107</td>\n",
       "      <td>True</td>\n",
       "      <td>False</td>\n",
       "      <td>Spanish</td>\n",
       "    </tr>\n",
       "    <tr>\n",
       "      <th>996</th>\n",
       "      <td>빅헤드 (bighead033)</td>\n",
       "      <td>122523705</td>\n",
       "      <td>153000</td>\n",
       "      <td>3940</td>\n",
       "      <td>793</td>\n",
       "      <td>213212</td>\n",
       "      <td>52289</td>\n",
       "      <td>4399897</td>\n",
       "      <td>True</td>\n",
       "      <td>False</td>\n",
       "      <td>Korean</td>\n",
       "    </tr>\n",
       "    <tr>\n",
       "      <th>997</th>\n",
       "      <td>마스카 (newmasca)</td>\n",
       "      <td>122452320</td>\n",
       "      <td>217410</td>\n",
       "      <td>6431</td>\n",
       "      <td>567</td>\n",
       "      <td>109068</td>\n",
       "      <td>-4942</td>\n",
       "      <td>3417970</td>\n",
       "      <td>True</td>\n",
       "      <td>False</td>\n",
       "      <td>Korean</td>\n",
       "    </tr>\n",
       "    <tr>\n",
       "      <th>998</th>\n",
       "      <td>AndyMilonakis</td>\n",
       "      <td>122311065</td>\n",
       "      <td>104745</td>\n",
       "      <td>10543</td>\n",
       "      <td>1153</td>\n",
       "      <td>547446</td>\n",
       "      <td>109111</td>\n",
       "      <td>3926918</td>\n",
       "      <td>True</td>\n",
       "      <td>False</td>\n",
       "      <td>English</td>\n",
       "    </tr>\n",
       "    <tr>\n",
       "      <th>999</th>\n",
       "      <td>Remx</td>\n",
       "      <td>122192850</td>\n",
       "      <td>99180</td>\n",
       "      <td>13788</td>\n",
       "      <td>1205</td>\n",
       "      <td>178553</td>\n",
       "      <td>59432</td>\n",
       "      <td>2049420</td>\n",
       "      <td>True</td>\n",
       "      <td>False</td>\n",
       "      <td>French</td>\n",
       "    </tr>\n",
       "  </tbody>\n",
       "</table>\n",
       "<p>1000 rows × 11 columns</p>\n",
       "</div>"
      ],
      "text/plain": [
       "              Channel  Watch time(Minutes)  Stream time(minutes)  \\\n",
       "0               xQcOW           6196161750                215250   \n",
       "1            summit1g           6091677300                211845   \n",
       "2              Gaules           5644590915                515280   \n",
       "3            ESL_CSGO           3970318140                517740   \n",
       "4                Tfue           3671000070                123660   \n",
       "..                ...                  ...                   ...   \n",
       "995         LITkillah            122524635                 13560   \n",
       "996  빅헤드 (bighead033)            122523705                153000   \n",
       "997    마스카 (newmasca)            122452320                217410   \n",
       "998     AndyMilonakis            122311065                104745   \n",
       "999              Remx            122192850                 99180   \n",
       "\n",
       "     Peak viewers  Average viewers  Followers  Followers gained  Views gained  \\\n",
       "0          222720            27716    3246298           1734810      93036735   \n",
       "1          310998            25610    5310163           1370184      89705964   \n",
       "2          387315            10976    1767635           1023779     102611607   \n",
       "3          300575             7714    3944850            703986     106546942   \n",
       "4          285644            29602    8938903           2068424      78998587   \n",
       "..            ...              ...        ...               ...           ...   \n",
       "995         21359             9104     601927            562691       2162107   \n",
       "996          3940              793     213212             52289       4399897   \n",
       "997          6431              567     109068             -4942       3417970   \n",
       "998         10543             1153     547446            109111       3926918   \n",
       "999         13788             1205     178553             59432       2049420   \n",
       "\n",
       "     Partnered  Mature    Language  \n",
       "0         True   False     English  \n",
       "1         True   False     English  \n",
       "2         True    True  Portuguese  \n",
       "3         True   False     English  \n",
       "4         True   False     English  \n",
       "..         ...     ...         ...  \n",
       "995       True   False     Spanish  \n",
       "996       True   False      Korean  \n",
       "997       True   False      Korean  \n",
       "998       True   False     English  \n",
       "999       True   False      French  \n",
       "\n",
       "[1000 rows x 11 columns]"
      ]
     },
     "execution_count": 3,
     "metadata": {},
     "output_type": "execute_result"
    }
   ],
   "source": [
    "data"
   ]
  },
  {
   "cell_type": "code",
   "execution_count": 5,
   "id": "9d4962a9-6bcf-4c19-b65a-e458c6c96be6",
   "metadata": {},
   "outputs": [
    {
     "data": {
      "text/plain": [
       "<matplotlib.collections.PathCollection at 0x2b42e2751c0>"
      ]
     },
     "execution_count": 5,
     "metadata": {},
     "output_type": "execute_result"
    },
    {
     "data": {
      "image/png": "[encoded data removed]",
      "text/plain": [
       "<Figure size 432x288 with 1 Axes>"
      ]
     },
     "metadata": {
      "needs_background": "light"
     },
     "output_type": "display_data"
    }
   ],
   "source": [
    "plt.scatter(data[\"Followers\"], data[\"Average viewers\"])"
   ]
  },
  {
   "cell_type": "code",
   "execution_count": 9,
   "id": "6104763b",
   "metadata": {},
   "outputs": [
    {
     "data": {
      "text/plain": [
       "<matplotlib.collections.PathCollection at 0x2b42e6a9cd0>"
      ]
     },
     "execution_count": 9,
     "metadata": {},
     "output_type": "execute_result"
    },
    {
     "data": {
      "image/png": "[encoded data removed]",
      "text/plain": [
       "<Figure size 432x288 with 1 Axes>"
      ]
     },
     "metadata": {
      "needs_background": "light"
     },
     "output_type": "display_data"
    }
   ],
   "source": [
    "plt.scatter(data[\"Watch time(Minutes)\"], data[\"Peak viewers\"])"
   ]
  },
  {
   "cell_type": "code",
   "execution_count": 11,
   "id": "460ad6e1",
   "metadata": {},
   "outputs": [
    {
     "data": {
      "text/plain": [
       "<BarContainer object of 1000 artists>"
      ]
     },
     "execution_count": 11,
     "metadata": {},
     "output_type": "execute_result"
    },
    {
     "data": {
      "image/png": "[encoded data removed]",
      "text/plain": [
       "<Figure size 432x288 with 1 Axes>"
      ]
     },
     "metadata": {
      "needs_background": "light"
     },
     "output_type": "display_data"
    }
   ],
   "source": [
    "plt.bar(data[\"Language\"], data[\"Average viewers\"])"
   ]
  },
  {
   "cell_type": "markdown",
   "id": "e33b3ab7",
   "metadata": {},
   "source": [
    "These are just a few that can be used to kickstart analysis"
   ]
  },
  {
   "cell_type": "code",
   "execution_count": null,
   "id": "877e7018",
   "metadata": {},
   "outputs": [],
   "source": []
  }
 ],
 "metadata": {
  "kernelspec": {
   "display_name": "Python 3 (ipykernel)",
   "language": "python",
   "name": "python3"
  },
  "language_info": {
   "codemirror_mode": {
    "name": "ipython",
    "version": 3
   },
   "file_extension": ".py",
   "mimetype": "text/x-python",
   "name": "python",
   "nbconvert_exporter": "python",
   "pygments_lexer": "ipython3",
   "version": "3.9.7"
  }
 },
 "nbformat": 4,
 "nbformat_minor": 5
}
